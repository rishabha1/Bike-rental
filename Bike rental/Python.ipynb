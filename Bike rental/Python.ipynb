{
 "cells": [
  {
   "cell_type": "code",
   "execution_count": 29,
   "metadata": {},
   "outputs": [],
   "source": [
    "#Load Libraries\n",
    "import os as os\n",
    "import pandas as pd\n",
    "import numpy as np\n",
    "from fancyimpute import KNN\n",
    "import matplotlib.pyplot as plt\n",
    "from scipy.stats import chi2_contingency\n",
    "import seaborn as sns\n",
    "from random import randrange,uniform"
   ]
  },
  {
   "cell_type": "code",
   "execution_count": 30,
   "metadata": {},
   "outputs": [],
   "source": [
    "#Set Working Directory\n",
    "os.chdir(\"C:/Users/Rishabh/Desktop/Edwisor-new/Project-2\")"
   ]
  },
  {
   "cell_type": "code",
   "execution_count": 32,
   "metadata": {},
   "outputs": [],
   "source": [
    "#Load Data\n",
    "bike_rent = pd.read_csv(\"day.csv\")"
   ]
  },
  {
   "cell_type": "code",
   "execution_count": 33,
   "metadata": {},
   "outputs": [],
   "source": [
    "#Exploratory data analysis\n",
    "categorical_index = [2,3,4,5,6,7,8]\n",
    "for i in categorical_index:\n",
    "    bike_rent.iloc[:,i] = bike_rent.iloc[:,i].astype(\"category\")\n",
    "\n",
    "##Ignore the \"casual\" and \"registered\" fields as their sum is equal to the \"cnt\" field\n",
    "del bike_rent[\"casual\"]\n",
    "del bike_rent[\"registered\"]"
   ]
  },
  {
   "cell_type": "markdown",
   "metadata": {},
   "source": [
    "# Missing Value Analysis"
   ]
  },
  {
   "cell_type": "code",
   "execution_count": 34,
   "metadata": {},
   "outputs": [
    {
     "data": {
      "text/plain": [
       "instant       0\n",
       "dteday        0\n",
       "season        0\n",
       "yr            0\n",
       "mnth          0\n",
       "holiday       0\n",
       "weekday       0\n",
       "workingday    0\n",
       "weathersit    0\n",
       "temp          0\n",
       "atemp         0\n",
       "hum           0\n",
       "windspeed     0\n",
       "cnt           0\n",
       "dtype: int64"
      ]
     },
     "execution_count": 34,
     "metadata": {},
     "output_type": "execute_result"
    }
   ],
   "source": [
    "bike_rent.isnull().sum() # As there are no missing values, therefore no need of missing value analysis"
   ]
  },
  {
   "cell_type": "markdown",
   "metadata": {},
   "source": [
    "## Outlier Analysis"
   ]
  },
  {
   "cell_type": "code",
   "execution_count": 35,
   "metadata": {},
   "outputs": [],
   "source": [
    "#Creating a backup\n",
    "df = bike_rent.copy()"
   ]
  },
  {
   "cell_type": "code",
   "execution_count": 36,
   "metadata": {},
   "outputs": [],
   "source": [
    "#specific columns on which Outlier analysis needs to be applied.\n",
    "cnames = [\"temp\",\"atemp\",\"hum\",\"windspeed\",\"cnt\"]\n",
    "cnames_index = [10,11,12,13,14]"
   ]
  },
  {
   "cell_type": "code",
   "execution_count": 37,
   "metadata": {},
   "outputs": [
    {
     "data": {
      "text/plain": [
       "{'whiskers': [<matplotlib.lines.Line2D at 0xb9afe29ac8>,\n",
       "  <matplotlib.lines.Line2D at 0xb9afe29f60>,\n",
       "  <matplotlib.lines.Line2D at 0xb9afdb88d0>,\n",
       "  <matplotlib.lines.Line2D at 0xb9afdb8cf8>,\n",
       "  <matplotlib.lines.Line2D at 0xb9afdca668>,\n",
       "  <matplotlib.lines.Line2D at 0xb9afdcaa90>,\n",
       "  <matplotlib.lines.Line2D at 0xb9afdd7400>,\n",
       "  <matplotlib.lines.Line2D at 0xb9afdd7828>,\n",
       "  <matplotlib.lines.Line2D at 0xb9afe50198>,\n",
       "  <matplotlib.lines.Line2D at 0xb9afe505c0>],\n",
       " 'caps': [<matplotlib.lines.Line2D at 0xb9afe2f3c8>,\n",
       "  <matplotlib.lines.Line2D at 0xb9afe2f7f0>,\n",
       "  <matplotlib.lines.Line2D at 0xb9afdc0160>,\n",
       "  <matplotlib.lines.Line2D at 0xb9afdc0588>,\n",
       "  <matplotlib.lines.Line2D at 0xb9afdcaeb8>,\n",
       "  <matplotlib.lines.Line2D at 0xb9afdd3320>,\n",
       "  <matplotlib.lines.Line2D at 0xb9afdd7c50>,\n",
       "  <matplotlib.lines.Line2D at 0xb9afde90b8>,\n",
       "  <matplotlib.lines.Line2D at 0xb9afe509e8>,\n",
       "  <matplotlib.lines.Line2D at 0xb9afe50e10>],\n",
       " 'boxes': [<matplotlib.lines.Line2D at 0xb9afe29978>,\n",
       "  <matplotlib.lines.Line2D at 0xb9afdb8470>,\n",
       "  <matplotlib.lines.Line2D at 0xb9afdca208>,\n",
       "  <matplotlib.lines.Line2D at 0xb9afdd3f60>,\n",
       "  <matplotlib.lines.Line2D at 0xb9afde9cf8>],\n",
       " 'medians': [<matplotlib.lines.Line2D at 0xb9afe2fc18>,\n",
       "  <matplotlib.lines.Line2D at 0xb9afdc09b0>,\n",
       "  <matplotlib.lines.Line2D at 0xb9afdd3748>,\n",
       "  <matplotlib.lines.Line2D at 0xb9afde94e0>,\n",
       "  <matplotlib.lines.Line2D at 0xb9afe5b278>],\n",
       " 'fliers': [<matplotlib.lines.Line2D at 0xb9afdb8080>,\n",
       "  <matplotlib.lines.Line2D at 0xb9afdc0dd8>,\n",
       "  <matplotlib.lines.Line2D at 0xb9afdd3b70>,\n",
       "  <matplotlib.lines.Line2D at 0xb9afde9908>,\n",
       "  <matplotlib.lines.Line2D at 0xb9afe5b6a0>],\n",
       " 'means': []}"
      ]
     },
     "execution_count": 37,
     "metadata": {},
     "output_type": "execute_result"
    },
    {
     "data": {
      "image/png": "[encoded data removed]",
      "text/plain": [
       "<Figure size 432x288 with 1 Axes>"
      ]
     },
     "metadata": {},
     "output_type": "display_data"
    }
   ],
   "source": [
    "##Plot boxplot to visualize Outliers\n",
    "%matplotlib inline\n",
    "plt.boxplot([bike_rent[\"temp\"], bike_rent[\"atemp\"], bike_rent[\"hum\"], bike_rent[\"windspeed\"], bike_rent[\"cnt\"]])"
   ]
  },
  {
   "cell_type": "code",
   "execution_count": 38,
   "metadata": {},
   "outputs": [
    {
     "name": "stdout",
     "output_type": "stream",
     "text": [
      "temp\n",
      "-0.14041600000000015\n",
      "1.1329160000000003\n",
      "atemp\n",
      "-0.06829675000000018\n",
      "1.0147412500000002\n",
      "hum\n",
      "0.20468725\n",
      "1.0455212500000002\n",
      "windspeed\n",
      "-0.012431000000000025\n",
      "0.380585\n",
      "cnt\n",
      "-1011.5\n",
      "10256.5\n"
     ]
    }
   ],
   "source": [
    "#Detect and delete outliers from data\n",
    "for i in cnames:\n",
    "    print(i)\n",
    "    q75, q25 = np.percentile(bike_rent.loc[:,i], [75 ,25])\n",
    "    iqr = q75 - q25\n",
    "\n",
    "    min = q25 - (iqr*1.5)\n",
    "    max = q75 + (iqr*1.5)\n",
    "    print(min)\n",
    "    print(max)\n",
    "    \n",
    "    bike_rent = bike_rent.drop(bike_rent[bike_rent.loc[:,i] < min].index)\n",
    "    bike_rent = bike_rent.drop(bike_rent[bike_rent.loc[:,i] > max].index)"
   ]
  },
  {
   "cell_type": "markdown",
   "metadata": {},
   "source": [
    "### Feature Selection\n"
   ]
  },
  {
   "cell_type": "code",
   "execution_count": 39,
   "metadata": {},
   "outputs": [],
   "source": [
    "##Correlation analysis\n",
    "#Correlation plot\n",
    "df_corr = bike_rent.loc[:,cnames]"
   ]
  },
  {
   "cell_type": "code",
   "execution_count": 40,
   "metadata": {},
   "outputs": [
    {
     "data": {
      "text/plain": [
       "<matplotlib.axes._subplots.AxesSubplot at 0xb9afe99160>"
      ]
     },
     "execution_count": 40,
     "metadata": {},
     "output_type": "execute_result"
    },
    {
     "data": {
      "image/png": "[encoded data removed]",
      "text/plain": [
       "<Figure size 504x360 with 2 Axes>"
      ]
     },
     "metadata": {},
     "output_type": "display_data"
    }
   ],
   "source": [
    "#Set the width and height of the plot\n",
    "f,ax = plt.subplots(figsize=(7, 5))\n",
    "\n",
    "#Generate correlation matrix\n",
    "corr = df_corr.corr()\n",
    "\n",
    "#Plot using seaborn library\n",
    "sns.heatmap(corr, mask=np.zeros_like(corr, dtype=np.bool), cmap=sns.diverging_palette(220, 10, as_cmap=True),\n",
    "            square=True, ax=ax)"
   ]
  },
  {
   "cell_type": "code",
   "execution_count": 41,
   "metadata": {},
   "outputs": [],
   "source": [
    "bike_rent = bike_rent.drop(\"temp\",axis =1)\n",
    "####\"instant\" , \"dteday\" and \"yr\" contribute nothing to the model. They change everyday(\"yr\" changes every year). Thus they are also removed\n",
    "bike_rent = bike_rent.drop(\"instant\",axis =1)\n",
    "bike_rent = bike_rent.drop(\"dteday\",axis =1)\n",
    "bike_rent = bike_rent.drop(\"yr\",axis =1)"
   ]
  },
  {
   "cell_type": "markdown",
   "metadata": {},
   "source": [
    "#### Storing Pre Processed File"
   ]
  },
  {
   "cell_type": "code",
   "execution_count": 42,
   "metadata": {},
   "outputs": [],
   "source": [
    "bike_rent.to_csv(\"pre_processed.csv\",index = False)"
   ]
  },
  {
   "cell_type": "markdown",
   "metadata": {},
   "source": [
    "##### Model Development"
   ]
  },
  {
   "cell_type": "markdown",
   "metadata": {},
   "source": [
    "# Decision Tree Model"
   ]
  },
  {
   "cell_type": "code",
   "execution_count": 43,
   "metadata": {},
   "outputs": [],
   "source": [
    "#Decision Tree Regression\n",
    "#Load Libraries\n",
    "from sklearn.cross_validation import train_test_split\n",
    "from sklearn.tree import DecisionTreeRegressor\n",
    "from sklearn.metrics import mean_absolute_error, r2_score"
   ]
  },
  {
   "cell_type": "code",
   "execution_count": 44,
   "metadata": {},
   "outputs": [],
   "source": [
    "#Divide the data into train and test\n",
    "train, test = train_test_split(bike_rent, test_size =0.2)"
   ]
  },
  {
   "cell_type": "code",
   "execution_count": 45,
   "metadata": {},
   "outputs": [],
   "source": [
    "#Decision tree for regression\n",
    "fit = DecisionTreeRegressor(max_depth=2).fit(train.iloc[:,0:9], train.iloc[:,9])"
   ]
  },
  {
   "cell_type": "code",
   "execution_count": 46,
   "metadata": {},
   "outputs": [],
   "source": [
    "#Apply model on test data\n",
    "predictions_DT = fit.predict(test.iloc[:,0:9])"
   ]
  },
  {
   "cell_type": "code",
   "execution_count": 47,
   "metadata": {},
   "outputs": [
    {
     "data": {
      "text/plain": [
       "1394.397591274645"
      ]
     },
     "execution_count": 47,
     "metadata": {},
     "output_type": "execute_result"
    }
   ],
   "source": [
    "#Calculating rmse\n",
    "def rmse(predictions, targets):\n",
    "    return np.sqrt(((predictions - targets) ** 2).mean())\n",
    "rmse(predictions_DT, test.iloc[:,9])\n"
   ]
  },
  {
   "cell_type": "code",
   "execution_count": 48,
   "metadata": {},
   "outputs": [
    {
     "data": {
      "text/plain": [
       "0.40886173455104324"
      ]
     },
     "execution_count": 48,
     "metadata": {},
     "output_type": "execute_result"
    }
   ],
   "source": [
    "#Calculating rmsle\n",
    "def rmsle(predictions, targets) :\n",
    "    return np.sqrt(np.mean((np.log(1+predictions) - np.log(1+targets))**2))\n",
    "rmsle(predictions_DT, test.iloc[:,9])"
   ]
  },
  {
   "cell_type": "code",
   "execution_count": 49,
   "metadata": {},
   "outputs": [],
   "source": [
    "#rmsle = 0.38"
   ]
  },
  {
   "cell_type": "markdown",
   "metadata": {},
   "source": [
    "# Linear Regression Model"
   ]
  },
  {
   "cell_type": "code",
   "execution_count": 50,
   "metadata": {},
   "outputs": [],
   "source": [
    "#Load Libraries\n",
    "from sklearn import datasets, linear_model\n"
   ]
  },
  {
   "cell_type": "code",
   "execution_count": 51,
   "metadata": {},
   "outputs": [],
   "source": [
    "# Create linear regression object\n",
    "regr = linear_model.LinearRegression()"
   ]
  },
  {
   "cell_type": "code",
   "execution_count": 52,
   "metadata": {},
   "outputs": [
    {
     "data": {
      "text/plain": [
       "LinearRegression(copy_X=True, fit_intercept=True, n_jobs=1, normalize=False)"
      ]
     },
     "execution_count": 52,
     "metadata": {},
     "output_type": "execute_result"
    }
   ],
   "source": [
    "regr.fit(train.iloc[:,0:9], train.iloc[:,9])"
   ]
  },
  {
   "cell_type": "code",
   "execution_count": 53,
   "metadata": {},
   "outputs": [],
   "source": [
    "#Apply model on test data\n",
    "predictions_LR = regr.predict(test.iloc[:,0:9])"
   ]
  },
  {
   "cell_type": "code",
   "execution_count": 54,
   "metadata": {},
   "outputs": [
    {
     "data": {
      "text/plain": [
       "1267.1325171132494"
      ]
     },
     "execution_count": 54,
     "metadata": {},
     "output_type": "execute_result"
    }
   ],
   "source": [
    "rmse(predictions_LR, test.iloc[:,9])"
   ]
  },
  {
   "cell_type": "code",
   "execution_count": 55,
   "metadata": {},
   "outputs": [
    {
     "data": {
      "text/plain": [
       "0.3361964862643883"
      ]
     },
     "execution_count": 55,
     "metadata": {},
     "output_type": "execute_result"
    }
   ],
   "source": [
    "rmsle(predictions_LR, test.iloc[:,9]) # In case the predictions have negative values, we need to replace them by the min value and then compute rmsle,otherwise it would throw error."
   ]
  },
  {
   "cell_type": "code",
   "execution_count": 56,
   "metadata": {},
   "outputs": [],
   "source": [
    "#rmsle = 0.35"
   ]
  },
  {
   "cell_type": "code",
   "execution_count": 57,
   "metadata": {},
   "outputs": [
    {
     "data": {
      "text/plain": [
       "0.3361964862643883"
      ]
     },
     "execution_count": 57,
     "metadata": {},
     "output_type": "execute_result"
    }
   ],
   "source": [
    "#####In case the previous rmsle can't be computed due to negative predictions, use this\n",
    "Output1 = predictions_LR\n",
    "Output1[predictions_LR <0] = 22\n",
    "rmsle(Output1, test.iloc[:,9])"
   ]
  }
 ],
 "metadata": {
  "kernelspec": {
   "display_name": "Python 3",
   "language": "python",
   "name": "python3"
  },
  "language_info": {
   "codemirror_mode": {
    "name": "ipython",
    "version": 3
   },
   "file_extension": ".py",
   "mimetype": "text/x-python",
   "name": "python",
   "nbconvert_exporter": "python",
   "pygments_lexer": "ipython3",
   "version": "3.6.5"
  }
 },
 "nbformat": 4,
 "nbformat_minor": 2
}
